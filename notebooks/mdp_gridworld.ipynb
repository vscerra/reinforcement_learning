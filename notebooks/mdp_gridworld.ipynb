{
 "cells": [
  {
   "cell_type": "markdown",
   "id": "2eed45a1-bd18-4709-8319-18d0d9a76b6f",
   "metadata": {},
   "source": [
    "# Exploring Markov Decision Processes (MDPs) Through a Gridworld Example\n",
    "\n",
    "This notebook takes us through a gridworld explorer that allows us to see how states and actions affect transitions. This is also useful for observing reward dynamics and terminations, and helps us understand stochastic transitions in action. "
   ]
  },
  {
   "cell_type": "markdown",
   "id": "346ec111-5acf-44f8-9083-1a11207c6e26",
   "metadata": {},
   "source": [
    "## Setup"
   ]
  },
  {
   "cell_type": "code",
   "execution_count": 1,
   "id": "1ae31f15-a894-4303-9dae-539d51f486df",
   "metadata": {},
   "outputs": [],
   "source": [
    "import sys\n",
    "import os\n",
    "sys.path.append(\"../\")\n",
    "from utils.gridworld import Gridworld\n",
    "from utils.gridworld_solver import value_iteration\n",
    "from utils.plot_utils import plot_value_heatmap, plot_policy_arrows\n",
    "\n",
    "import matplotlib.pyplot as plt\n",
    "import numpy as np\n",
    "\n",
    "%load_ext autoreload\n",
    "%autoreload 2\n",
    "    \n",
    "env = Gridworld(size=5, start=0, goal=24, traps=[6, 11, 18])\n"
   ]
  },
  {
   "cell_type": "markdown",
   "id": "aff34563-2ffa-4615-96a1-4107fa873f5f",
   "metadata": {},
   "source": [
    "## Visualize the Grid"
   ]
  },
  {
   "cell_type": "code",
   "execution_count": 2,
   "id": "dc0d81c6-fbdb-42d3-ac04-585ffeb00d13",
   "metadata": {},
   "outputs": [],
   "source": [
    "def draw_grid(state, env):\n",
    "    grid = np.full((env.size, env.size), \".\", dtype=str)\n",
    "    #mark goal and traps\n",
    "    goal_pos = env.state_to_pos(env.goal)\n",
    "    grid[goal_pos] = \"G\"\n",
    "    for trap in env.traps:\n",
    "        trap_pos = env.state_to_pos(trap)\n",
    "        grid[trap_pos] = \"X\"\n",
    "\n",
    "    #mark agent's position\n",
    "    agent_pos = env.state_to_pos(state)\n",
    "    if grid[agent_pos] == \".\":\n",
    "        grid[agent_pos] = \"A\"\n",
    "    else:\n",
    "        grid[agent_pos] += \"/A\"\n",
    "        \n",
    "    print(\"\\nGrid:\")\n",
    "    for row in grid:\n",
    "        print(\" \".join(row))"
   ]
  },
  {
   "cell_type": "markdown",
   "id": "60052f3b-a9ca-4bbf-8b99-d70e9c9d4f88",
   "metadata": {},
   "source": [
    "## Run Episode Manually"
   ]
  },
  {
   "cell_type": "code",
   "execution_count": 3,
   "id": "e18ad1d0-4ac3-44a7-87ba-a2bbee198c59",
   "metadata": {},
   "outputs": [
    {
     "name": "stdout",
     "output_type": "stream",
     "text": [
      "\n",
      "Grid:\n",
      "A . . . .\n",
      ". X . . .\n",
      ". X . . .\n",
      ". . . X .\n",
      ". . . . G\n"
     ]
    },
    {
     "name": "stdin",
     "output_type": "stream",
     "text": [
      "Action (0=up, 1=right, 2=down, 3=left):  1\n"
     ]
    },
    {
     "name": "stdout",
     "output_type": "stream",
     "text": [
      "\n",
      "Grid:\n",
      ". A . . .\n",
      ". X . . .\n",
      ". X . . .\n",
      ". . . X .\n",
      ". . . . G\n",
      "Step 1 - Reward: -1\n"
     ]
    },
    {
     "name": "stdin",
     "output_type": "stream",
     "text": [
      "Action (0=up, 1=right, 2=down, 3=left):  1\n"
     ]
    },
    {
     "name": "stdout",
     "output_type": "stream",
     "text": [
      "\n",
      "Grid:\n",
      ". . A . .\n",
      ". X . . .\n",
      ". X . . .\n",
      ". . . X .\n",
      ". . . . G\n",
      "Step 2 - Reward: -1\n"
     ]
    },
    {
     "name": "stdin",
     "output_type": "stream",
     "text": [
      "Action (0=up, 1=right, 2=down, 3=left):  1\n"
     ]
    },
    {
     "name": "stdout",
     "output_type": "stream",
     "text": [
      "\n",
      "Grid:\n",
      ". . . A .\n",
      ". X . . .\n",
      ". X . . .\n",
      ". . . X .\n",
      ". . . . G\n",
      "Step 3 - Reward: -1\n"
     ]
    },
    {
     "name": "stdin",
     "output_type": "stream",
     "text": [
      "Action (0=up, 1=right, 2=down, 3=left):  1\n"
     ]
    },
    {
     "name": "stdout",
     "output_type": "stream",
     "text": [
      "\n",
      "Grid:\n",
      ". . . . A\n",
      ". X . . .\n",
      ". X . . .\n",
      ". . . X .\n",
      ". . . . G\n",
      "Step 4 - Reward: -1\n"
     ]
    },
    {
     "name": "stdin",
     "output_type": "stream",
     "text": [
      "Action (0=up, 1=right, 2=down, 3=left):  2\n"
     ]
    },
    {
     "name": "stdout",
     "output_type": "stream",
     "text": [
      "\n",
      "Grid:\n",
      ". . . . A\n",
      ". X . . .\n",
      ". X . . .\n",
      ". . . X .\n",
      ". . . . G\n",
      "Step 5 - Reward: -1\n"
     ]
    },
    {
     "name": "stdin",
     "output_type": "stream",
     "text": [
      "Action (0=up, 1=right, 2=down, 3=left):  2\n"
     ]
    },
    {
     "name": "stdout",
     "output_type": "stream",
     "text": [
      "\n",
      "Grid:\n",
      ". . . . .\n",
      ". X . . A\n",
      ". X . . .\n",
      ". . . X .\n",
      ". . . . G\n",
      "Step 6 - Reward: -1\n"
     ]
    },
    {
     "name": "stdin",
     "output_type": "stream",
     "text": [
      "Action (0=up, 1=right, 2=down, 3=left):  2\n"
     ]
    },
    {
     "name": "stdout",
     "output_type": "stream",
     "text": [
      "\n",
      "Grid:\n",
      ". . . . .\n",
      ". X . . .\n",
      ". X . . A\n",
      ". . . X .\n",
      ". . . . G\n",
      "Step 7 - Reward: -1\n"
     ]
    },
    {
     "name": "stdin",
     "output_type": "stream",
     "text": [
      "Action (0=up, 1=right, 2=down, 3=left):  2\n"
     ]
    },
    {
     "name": "stdout",
     "output_type": "stream",
     "text": [
      "\n",
      "Grid:\n",
      ". . . . .\n",
      ". X . . .\n",
      ". X . . .\n",
      ". . . X A\n",
      ". . . . G\n",
      "Step 8 - Reward: -1\n"
     ]
    },
    {
     "name": "stdin",
     "output_type": "stream",
     "text": [
      "Action (0=up, 1=right, 2=down, 3=left):  2\n"
     ]
    },
    {
     "name": "stdout",
     "output_type": "stream",
     "text": [
      "\n",
      "Grid:\n",
      ". . . . .\n",
      ". X . . .\n",
      ". X . . .\n",
      ". . . X .\n",
      ". . . . G\n",
      "Step 9 - Reward: 10\n",
      "Episode finished.\n"
     ]
    }
   ],
   "source": [
    "state = env.reset()\n",
    "draw_grid(state, env)\n",
    "\n",
    "for t in range(20):\n",
    "    action = int(input(\"Action (0=up, 1=right, 2=down, 3=left): \"))\n",
    "    next_state, reward, done = env.step(action)\n",
    "    draw_grid(next_state, env)\n",
    "    print(f\"Step {t+1} - Reward: {reward}\")\n",
    "    if done:\n",
    "        print(\"Episode finished.\")\n",
    "        break"
   ]
  },
  {
   "cell_type": "markdown",
   "id": "41a65076-2815-40d2-9054-e85508b94f0f",
   "metadata": {},
   "source": [
    "## Solve Using Value Iteration"
   ]
  },
  {
   "cell_type": "code",
   "execution_count": 4,
   "id": "3c04dba7-e8a1-4b08-8fa5-c06ff3a9d0e3",
   "metadata": {},
   "outputs": [],
   "source": [
    "V, policy = value_iteration(env)"
   ]
  },
  {
   "cell_type": "code",
   "execution_count": 5,
   "id": "d8dace8d-7f3c-40f4-b0ba-9680e604a6d3",
   "metadata": {},
   "outputs": [
    {
     "data": {
      "image/png": "[encoded data removed]",
      "text/plain": [
       "<Figure size 500x400 with 2 Axes>"
      ]
     },
     "metadata": {},
     "output_type": "display_data"
    },
    {
     "data": {
      "image/png": "[encoded data removed]",
      "text/plain": [
       "<Figure size 500x400 with 1 Axes>"
      ]
     },
     "metadata": {},
     "output_type": "display_data"
    }
   ],
   "source": [
    "# visualize results\n",
    "plot_value_heatmap(V, env, title=\"Optimal State Values\")\n",
    "plot_policy_arrows(policy, env, title=\"Optimal Policy\")"
   ]
  }
 ],
 "metadata": {
  "kernelspec": {
   "display_name": "Python 3 (ipykernel)",
   "language": "python",
   "name": "python3"
  },
  "language_info": {
   "codemirror_mode": {
    "name": "ipython",
    "version": 3
   },
   "file_extension": ".py",
   "mimetype": "text/x-python",
   "name": "python",
   "nbconvert_exporter": "python",
   "pygments_lexer": "ipython3",
   "version": "3.9.18"
  }
 },
 "nbformat": 4,
 "nbformat_minor": 5
}
